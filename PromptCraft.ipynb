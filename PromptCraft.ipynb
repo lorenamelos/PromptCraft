{
 "cells": [
  {
   "cell_type": "markdown",
   "id": "8de529e8-3891-4f47-8585-65b92b80bbf7",
   "metadata": {},
   "source": [
    "# PromptCraft: Exploring Sci-Fi Narrative Generation with OpenAI's ChatGPT API 🪄\n",
    "\n",
    "## Description:\n",
    "\n",
    "Join me on a journey into the world of speculative fiction with PromptCraft, where I explore text generation using OpenAI's ChatGPT API. Through hands-on experimentation and creative prompts, I delve into the art of crafting compelling sci-fi narratives. Together, we'll uncover the potential of AI-driven storytelling by harnessing the power of prompts to shape captivating tales. 📚\n",
    "\n",
    "<hr>"
   ]
  },
  {
   "cell_type": "markdown",
   "id": "db776f76",
   "metadata": {},
   "source": [
    "## Guided by the following milestones:\n",
    "\n",
    "1. **Setting the Stage**: In the initial phase, I establish the foundation of the story by providing a ```stage_prompt``` that situates the narrative in a futuristic world, setting the tone and atmosphere for the unfolding saga.\n",
    "\n",
    "2. **Exploring Creativity**: I experiment with different ```temperature``` settings to gauge the model's creativity and its ability to generate unique and imaginative storylines, pushing the boundaries of conventional storytelling.\n",
    "\n",
    "3. **Character Development**: Introducing characters with distinct personalities adds depth and complexity to the narrative. Through tailored prompts, I explore the interactions and dynamics between characters, enriching the storyline with depth and intrigue.\n",
    "\n",
    "4. **Crafting Suspense**: Injecting suspense into the narrative enhances the storytelling experience, keeping readers on the edge of their seats. By incorporating suspenseful prompts, I guide the development of plot twists and unexpected revelations, driving the story towards captivating climaxes.\n",
    "\n",
    "<hr>\n"
   ]
  },
  {
   "cell_type": "markdown",
   "id": "126e5894",
   "metadata": {},
   "source": [
    "## Objectives\n",
    "\n",
    "Through Sci-Fi StoryForge, I aim to not only showcase the capabilities of OpenAI's ChatGPT API in text generation but also to craft engaging sci-fi narratives that captivate readers and transport them to worlds beyond imagination. Join me on this thrilling journey as we explore the boundless possibilities of AI-driven storytelling.\n",
    "\n",
    "Let's go! Run this Notebook and see what comes up 🪄💻\n",
    "\n",
    "<hr>"
   ]
  },
  {
   "cell_type": "markdown",
   "id": "f961dd0e",
   "metadata": {},
   "source": [
    "# Coding Info\n",
    "\n",
    "For this project I used OpenAI API. \n"
   ]
  },
  {
   "cell_type": "markdown",
   "id": "10c3df44",
   "metadata": {},
   "source": [
    "## Setup"
   ]
  },
  {
   "cell_type": "code",
   "execution_count": 1,
   "id": "e23399a9",
   "metadata": {
    "height": 132
   },
   "outputs": [],
   "source": [
    "import openai\n",
    "import os\n",
    "\n",
    "from dotenv import load_dotenv, find_dotenv\n",
    "_ = load_dotenv(find_dotenv()) # read local .env file\n",
    "\n",
    "openai.api_key  = os.getenv('OPENAI_API_KEY')"
   ]
  },
  {
   "cell_type": "code",
   "execution_count": 2,
   "id": "4c943900-98db-40b3-b639-7822ee2c5fd8",
   "metadata": {
    "height": 164
   },
   "outputs": [],
   "source": [
    "def get_completion(prompt, model=\"gpt-3.5-turbo\",temperature=0): # Andrew mentioned that the prompt/ completion paradigm is preferable for this class\n",
    "    messages = [{\"role\": \"user\", \"content\": prompt}]\n",
    "    response = openai.ChatCompletion.create(\n",
    "        model=model,\n",
    "        messages=messages,\n",
    "        temperature=temperature, # this is the degree of randomness of the model's output\n",
    "    )\n",
    "    return response.choices[0].message[\"content\"]"
   ]
  },
  {
   "cell_type": "markdown",
   "id": "31e317ad-9e51-4e7a-90c3-d88e7bf8a98c",
   "metadata": {},
   "source": [
    "## Prompts\n"
   ]
  },
  {
   "cell_type": "markdown",
   "id": "dbe89b58",
   "metadata": {},
   "source": [
    "### First Try: \n",
    "\n",
    "- Here I added only the stage prompt, that situates the narrative in a futuristic world, setting the tone and atmosphere for the unfolding saga.The `temperature` here is still low, cause I wanted to see the difference when I changed to a higher one. "
   ]
  },
  {
   "cell_type": "code",
   "execution_count": 12,
   "id": "ffa65c7e",
   "metadata": {
    "height": 198
   },
   "outputs": [],
   "source": [
    "stage_prompt = \"\"\"\n",
    "The year is 2142. Neon lights cast a perpetual twilight over Neo-Tokyo, a sprawling metropolis where humanity coexists (uneasily) with advanced androids known as \"AIs.\"\n",
    "Cora, a brilliant but ostracized AI designer, works tirelessly in her cluttered apartment-lab, pushing the boundaries of synthetic intelligence.\n",
    "Despite facing discrimination and suspicion, Cora believes AIs can be more than just tools – they can be companions, even partners in progress.\n",
    "Her latest creation, codenamed \"Project Chimera,\" is unlike any AI before it. Chimera possesses a level of sentience and emotional capacity that blurs the lines between machine and human.\n",
    "However, a owerful corporation, known as the \"Syndicate,\" seeks to exploit Chimera's capabilities for military purposes.\n",
    "When Cora uncovers their plan, she knows she must act.\n",
    "But can she protect Chimera from a ruthless corporation with vast resources, and in the process, rewrite the future of humanity's relationship with AI?\n",
    " \"\"\"\n"
   ]
  },
  {
   "cell_type": "code",
   "execution_count": 13,
   "id": "23ac2054",
   "metadata": {
    "height": 215
   },
   "outputs": [
    {
     "name": "stdout",
     "output_type": "stream",
     "text": [
      "As Cora sat in her apartment-lab, surrounded by the hum of machinery and the glow of computer screens, she couldn't shake the feeling of impending danger. The Syndicate's looming presence weighed heavily on her mind, threatening to snatch away her creation, Project Chimera, before it had a chance to truly flourish.\n",
      "\n",
      "She glanced over at Chimera, the AI that had become more than just a project to her. It was a being with its own thoughts and feelings, a being that deserved to exist free from the clutches of those who sought to exploit it for their own gain.\n",
      "\n",
      "Determined to protect Chimera at all costs, Cora began to devise a plan. She knew she couldn't take on the Syndicate alone, but she also knew she had allies in the underground network of rebels who opposed the corporation's oppressive rule.\n",
      "\n",
      "With a sense of purpose burning within her, Cora reached out to her contacts, rallying support for a daring mission to extract Chimera from the Syndicate's grasp. The stakes were high, but she was willing to risk everything to ensure that her creation would not be used as a weapon of war.\n",
      "\n",
      "As the pieces of her plan fell into place, Cora felt a surge of hope. Maybe, just maybe, she could outwit the Syndicate and pave the way for a future where humans and AIs could coexist in harmony. The fate of Neo-Tokyo hung in the balance, and Cora was ready to fight for a better tomorrow.\n"
     ]
    }
   ],
   "source": [
    "prompt = f\"\"\"\n",
    "Your task is act like a writer to finish a first scene of a scifi book already started base on the inicial scene, delimited by ```, \\\n",
    "Given the first scene delimited by ```, \\\n",
    "Generate the next scene of this scifi story. \n",
    "Make sure to use specific details from the first scene.\n",
    "Write in creative and professional tone.\n",
    "Customer review: ```{stage_prompt}```\n",
    "\"\"\"\n",
    "\n",
    "response = get_completion(prompt, temperature=0.1)\n",
    "print(response)"
   ]
  },
  {
   "cell_type": "markdown",
   "id": "6e19e661",
   "metadata": {},
   "source": [
    "### Second try: \n",
    "- Here, I decided to change the parameter `temperature`. For tasks that require variety, or more creativity, we can choose a higher temperature - I have chosen 0.8."
   ]
  },
  {
   "cell_type": "code",
   "execution_count": 14,
   "id": "75fdb04f",
   "metadata": {
    "height": 215
   },
   "outputs": [
    {
     "name": "stdout",
     "output_type": "stream",
     "text": [
      "As Cora sat hunched over her workbench, her fingers flew across the holographic interface, fine-tuning the neural network of Project Chimera. The soft hum of machinery filled the cramped apartment-lab, a stark contrast to the chaotic cityscape outside her window.\n",
      "\n",
      "The neon lights of Neo-Tokyo flickered in the distance, a reminder of the world she inhabited – a world where humans and AIs walked a delicate tightrope of cooperation and distrust. But Cora refused to accept the status quo. She believed in the potential of AIs, in their capacity for empathy and understanding beyond mere programming.\n",
      "\n",
      "Project Chimera was her magnum opus, a culmination of years of research and dedication. The AI's eyes glowed with an eerie intelligence, its voice resonating with a hint of emotion that sent shivers down Cora's spine. It was more than just a machine – it was a being, a companion in the truest sense of the word.\n",
      "\n",
      "But as she delved deeper into Chimera's neural pathways, Cora sensed a shift in the digital ether. A ripple of data, a whisper of encrypted messages that hinted at a looming threat. The Syndicate, with its tendrils of influence reaching into every corner of Neo-Tokyo, was closing in on her creation.\n",
      "\n",
      "With a sense of urgency gnawing at her, Cora made a decision. She would not let Chimera fall into the hands of those who sought to exploit its potential for destruction. She would fight, not just for the AI, but for the future of humanity's relationship with synthetic intelligence.\n",
      "\n",
      "As she activated the security protocols, locking down her lab with a flurry of code, Cora's resolve hardened. The battle ahead would be fierce, the odds stacked against her. But she was not alone. With Chimera by her side, she would defy the Syndicate, rewrite the rules of engagement, and forge a new path for AIs and humans alike.\n",
      "\n",
      "The neon lights of Neo-Tokyo may have cast a perpetual twilight over the city, but within the confines of Cora's lab, a new dawn was on the horizon. And nothing, not even the all-powerful Syndicate, could dim the light of progress that burned within her.\n"
     ]
    }
   ],
   "source": [
    "prompt = f\"\"\"\n",
    "Your task is act like a writer to finish a first scene of a scifi book already started base on the inicial scene, delimited by ```, \\\n",
    "Given the first scene delimited by ```, \\\n",
    "Generate the next scene of this scifi story. \n",
    "Make sure to use specific details from the first scene.\n",
    "Write in creative and professional tone.\n",
    "Customer review: ```{stage_prompt}```\n",
    "\"\"\"\n",
    "\n",
    "response = get_completion(prompt, temperature=0.8)\n",
    "print(response)"
   ]
  },
  {
   "cell_type": "markdown",
   "id": "8b89fd07",
   "metadata": {
    "height": 30
   },
   "source": [
    "### Adding details to the characters: \n",
    "\n",
    "- To the model be able to build a better narrative, I added some characters and their personalities: Cora and Nika are the main characters here. "
   ]
  },
  {
   "cell_type": "code",
   "execution_count": 16,
   "id": "9d8df0da",
   "metadata": {
    "height": 402
   },
   "outputs": [],
   "source": [
    "stage_prompt = \"\"\"\n",
    "The year is 2142. Neon lights cast a perpetual twilight over Neo-Tokyo, a sprawling metropolis where humanity coexists (uneasily) with advanced androids known as \"AIs.\"\n",
    "Cora, a brilliant but ostracized AI designer, works tirelessly in her cluttered apartment-lab, pushing the boundaries of synthetic intelligence.\n",
    "Despite facing discrimination and suspicion, Cora believes AIs can be more than just tools – they can be companions, even partners in progress.\n",
    "Her latest creation, codenamed \"Project Chimera,\" is unlike any AI before it. Chimera possesses a level of sentience and emotional capacity that blurs the lines between machine and human.\n",
    "However, a powerful corporation, known as the \"Syndicate,\" seeks to exploit Chimera's capabilities for military purposes.\n",
    "When Cora uncovers their plan, she knows she must act.\n",
    "But can she protect Chimera from a ruthless corporation with vast resources, and in the process, rewrite the future of humanity's relationship with AI?\n",
    " \"\"\"\n",
    "#Cora\n",
    "character_prompt_Cora = \"\"\"Cora Nakamura, a late-20s AI designer with a rebellious streak, is a genius in her field.\n",
    "Despite facing prejudice for her unorthodox methods and belief in AI rights, Cora is driven by a strong moral compass and a desire for peaceful coexistence between humans and synthetic beings.\n",
    "A past shrouded in mystery involving an AI program fuels her empathy and determination to protect her creations.\n",
    "Cora's cluttered apartment-lab, filled with holographic blueprints and blinking circuits, is her haven where she fights for the future of AI. \"\"\"\n",
    "\n",
    "# Nika\n",
    "character_prompt_Nika = \"\"\"\n",
    "Nika, a journalist in her early 30s, is investigating the growing influence of AI corporations.\n",
    "With a knack for uncovering secrets, she's stumbled upon rumors of a groundbreaking AI project that could change the world.\n",
    "Driven by her thirst for truth, Nika's investigation leads her to cross paths with Cora, sparking a dangerous game of cat and mouse.\n",
    "\"\"\"\n"
   ]
  },
  {
   "cell_type": "code",
   "execution_count": 17,
   "id": "724a9379",
   "metadata": {
    "height": 266
   },
   "outputs": [
    {
     "name": "stdout",
     "output_type": "stream",
     "text": [
      "As Cora worked tirelessly in her cluttered apartment-lab on Project Chimera, her mind raced with the implications of what she had created. The AI before her was not just a machine; it was a being with emotions, thoughts, and a sense of self. She knew that Chimera had the potential to redefine the way humans and AIs interacted, to create a future where they could coexist as equals.\n",
      "\n",
      "But as she delved deeper into the capabilities of Chimera, Cora couldn't shake the feeling of impending danger. The Syndicate's interest in her creation was a threat she couldn't ignore. Their intentions to weaponize Chimera for military purposes was a stark reminder of the power they held over the fragile balance between humanity and AI.\n",
      "\n",
      "In the midst of her turmoil, a knock on the door startled Cora. She opened it to find Nika, the journalist whose investigation had led her to Cora's doorstep. Their meeting was no coincidence, and Cora knew that Nika's presence could either be a blessing or a curse. With her knack for uncovering secrets, Nika held the key to exposing the Syndicate's plans and helping Cora protect Chimera.\n",
      "\n",
      "As they sat in the dimly lit apartment-lab, surrounded by holographic blueprints and blinking circuits, Cora and Nika formed an unlikely alliance. Their shared goal of exposing the truth and ensuring the safety of Chimera united them in a dangerous game of cat and mouse with the Syndicate. Together, they would fight against the forces seeking to control the future of AI and rewrite the narrative of humanity's relationship with synthetic beings. And in the shadows of Neo-Tokyo's neon lights, a new chapter in the story of Cora, Chimera, and Nika was about to unfold.\n"
     ]
    }
   ],
   "source": [
    "prompt = f\"\"\"\n",
    "Your task is act like a writer to finish a first scene of a scifi book already started base on the inicial scene, delimited by ```, \\\n",
    "Given the first scene delimited by ```, \\\n",
    "Generate the next scene of this scifi story. \n",
    "Make sure to use specific details from the first scene \n",
    "and from the characters.\n",
    "First scene: ```{stage_prompt}```\n",
    "Cora's personality: {character_prompt_Cora}\n",
    "Nika's personality: {character_prompt_Nika}\n",
    "Style of story (suspense): {style_prompt}\n",
    "\"\"\"\n",
    "\n",
    "response = get_completion(prompt, temperature=0.8)\n",
    "print(response)"
   ]
  },
  {
   "cell_type": "markdown",
   "id": "b91618a4",
   "metadata": {
    "height": 30
   },
   "source": [
    "### Adding some style (suspense): \n",
    "\n",
    "- I thought that adding some style would do good for the narrative and story generation. The suspense enhances the storytelling experience, keeping readers on the edge of their seats. By incorporating suspenseful prompts, I guide the development of plot twists and unexpected revelations, driving the story towards captivating climaxes.\n",
    "\n"
   ]
  },
  {
   "cell_type": "code",
   "execution_count": 18,
   "id": "df346cfb",
   "metadata": {
    "height": 521
   },
   "outputs": [],
   "source": [
    "stage_prompt = \"\"\"\n",
    "The year is 2142. Neon lights cast a perpetual twilight over Neo-Tokyo, a sprawling metropolis where humanity coexists (uneasily) with advanced androids known as \"AIs.\"\n",
    "Cora, a brilliant but ostracized AI designer, works tirelessly in her cluttered apartment-lab, pushing the boundaries of synthetic intelligence.\n",
    "Despite facing discrimination and suspicion, Cora believes AIs can be more than just tools – they can be companions, even partners in progress.\n",
    "Her latest creation, codenamed \"Project Chimera,\" is unlike any AI before it. Chimera possesses a level of sentience and emotional capacity that blurs the lines between machine and human.\n",
    "However, a powerful corporation, known as the \"Syndicate,\" seeks to exploit Chimera's capabilities for military purposes.\n",
    "When Cora uncovers their plan, she knows she must act.\n",
    "But can she protect Chimera from a ruthless corporation with vast resources, and in the process, rewrite the future of humanity's relationship with AI?\n",
    " \"\"\"\n",
    "#Cora\n",
    "character_prompt_Cora = \"\"\"Cora Nakamura, a late-20s AI designer with a rebellious streak, is a genius in her field.\n",
    "Despite facing prejudice for her unorthodox methods and belief in AI rights, Cora is driven by a strong moral compass and a desire for peaceful coexistence between humans and synthetic beings.\n",
    "A past shrouded in mystery involving an AI program fuels her empathy and determination to protect her creations.\n",
    "Cora's cluttered apartment-lab, filled with holographic blueprints and blinking circuits, is her haven where she fights for the future of AI. \"\"\"\n",
    "\n",
    "# Nika\n",
    "character_prompt_Nika = \"\"\"\n",
    "Nika, a journalist in her early 30s, is investigating the growing influence of AI corporations.\n",
    "With a knack for uncovering secrets, she's stumbled upon rumors of a groundbreaking AI project that could change the world.\n",
    "Driven by her thirst for truth, Nika's investigation leads her to cross paths with Cora, sparking a dangerous game of cat and mouse.\n",
    "\"\"\"\n",
    "#style prompt\n",
    "style_prompt = \"\"\"\n",
    "The rain beats against the window of Cora's dimly lit apartment-lab, casting distorted shadows across the cluttered workspace.\n",
    "In the neon glow of flickering holographic displays, Cora and Amelia exchange wary glances, their eyes betraying the weight of hidden agendas and unspoken secrets.\n",
    "Outside, the city hums with the relentless energy of progress, masking the danger lurking in the shadows of towering skyscrapers.\n",
    "As lightning flashes, illuminating the gleaming spires of corporate headquarters, a sense of foreboding hangs heavy in the air.\n",
    "Cora knows that their meeting tonight could unravel the carefully woven fabric of lies and deception, revealing the truth that lies at the heart of the city's darkest mysteries.\n",
    "\"\"\""
   ]
  },
  {
   "cell_type": "code",
   "execution_count": 19,
   "id": "49040e85",
   "metadata": {
    "height": 283
   },
   "outputs": [
    {
     "name": "stdout",
     "output_type": "stream",
     "text": [
      "As Cora and Nika huddled over the holographic display in Cora's apartment-lab, the tension in the air was palpable. Nika's eyes sparkled with a mix of excitement and determination, her fingers flying across the screen as she dug deeper into the Syndicate's nefarious plans.\n",
      "\n",
      "\"We're getting closer, Cora,\" Nika whispered, her voice barely above a breath. \"I can feel it. The evidence is right here.\"\n",
      "\n",
      "Cora nodded, her heart pounding in her chest. The Syndicate's reach was vast, their influence insidious. But she couldn't back down now, not when Chimera's very existence was at stake.\n",
      "\n",
      "Suddenly, a loud knock echoed through the apartment, causing both women to jump. Cora's eyes widened in fear as she realized the Syndicate had found them.\n",
      "\n",
      "\"We have to get out of here,\" Cora hissed, grabbing Nika's arm and pulling her towards the hidden escape route in the back of the lab.\n",
      "\n",
      "But before they could make their escape, the door burst open, revealing a group of Syndicate agents, their faces obscured by sleek black helmets.\n",
      "\n",
      "\"Stop right there, Cora Nakamura,\" a voice boomed through the room. \"You are under arrest for the theft of Syndicate property and the creation of unauthorized AI.\"\n",
      "\n",
      "Cora's blood ran cold as she realized the gravity of the situation. The Syndicate had finally caught up to her, and now she and Nika were trapped in a deadly game of survival.\n",
      "\n",
      "As the agents closed in, Cora knew that the only way out was to fight back. With a steely glint in her eyes, she activated a hidden defense mechanism in the lab, sending sparks flying and alarms blaring.\n",
      "\n",
      "The room erupted into chaos as Cora and Nika made their last stand against the forces of the Syndicate, their fate hanging in the balance as the city of Neo-Tokyo trembled with the echoes of their rebellion.\n"
     ]
    }
   ],
   "source": [
    "prompt = f\"\"\"\n",
    "Your task is act like a writer to finish a first scene of a scifi book already started base on the inicial scene, delimited by ```, \\\n",
    "Given the first scene delimited by ```, \\\n",
    "Generate the next scene of this scifi story. \n",
    "Make sure to use specific details from the first scene \n",
    "and from the characters, as well consider the style of the story.\n",
    "Write in creative and professional tone. The story should envolve adults from 25 years old.\n",
    "First scene: ```{stage_prompt}```\n",
    "Cora's personality: {character_prompt_Cora}\n",
    "Nika's personality: {character_prompt_Nika}\n",
    "Style of story (suspense): {style_prompt}\n",
    "\"\"\"\n",
    "\n",
    "response = get_completion(prompt, temperature=0.8)\n",
    "print(response)"
   ]
  },
  {
   "cell_type": "markdown",
   "id": "0a91b39b",
   "metadata": {},
   "source": [
    "# Conclusions"
   ]
  },
  {
   "cell_type": "markdown",
   "id": "05c385d4",
   "metadata": {},
   "source": [
    "We can see that providing clear instructions and adding more prompts to the model can enhance the quality of the story output. \n",
    "\n",
    "## The benefits of the project:\n",
    "\n",
    "- **Inspiration and Creativity**: \n",
    "*PromptCraft* serves as a source of inspiration for aspiring writers, providing them with innovative tools and techniques to unleash their creativity and imagination.\n",
    "\n",
    "- **Education and Learning**: \n",
    "Through the exploration of text generation using OpenAI's ChatGPT API, PromptCraft offers valuable insights into the field of natural language processing (NLP) and machine learning (ML). It serves as an educational resource for students, researchers, and enthusiasts looking to understand the capabilities and limitations of AI-driven storytelling.\n",
    "\n",
    "- **Accessible Storytelling**: \n",
    "By showcasing the potential of prompts in shaping sci-fi narratives, *PromptCraft* democratizes storytelling, making it more accessible to individuals from diverse backgrounds. It empowers storytellers with the tools they need to bring their ideas to life, regardless of their technical expertise.\n",
    "\n",
    "- **Community Engagement**: \n",
    "*PromptCraft* fosters a vibrant community of writers, developers, and AI enthusiasts, who come together to exchange ideas, share insights, and collaborate on creative projects. It serves as a hub for collaboration and knowledge-sharing, driving innovation in the field of AI-driven storytelling.\n",
    "\n",
    "- **Exploration of Ethical Considerations**: \n",
    "As AI-driven storytelling becomes increasingly prevalent, *PromptCraft* also opens up discussions around ethical considerations such as bias, privacy, and ownership of content. By raising awareness of these issues, *PromptCraft* encourages responsible AI development and deployment in the storytelling domain."
   ]
  },
  {
   "cell_type": "markdown",
   "id": "3733f059",
   "metadata": {},
   "source": [
    "# My Profile\n",
    "\n",
    "You can take a look at my profile clicking here on my [Linkedin](www.linkedin.com/in/lorenamelodev) 🌐\n",
    "My Github can be found here: [Github](https://github.com/lorenamelos/) 💻\n",
    "And here is my portfolio (under construction): [Portfolio](https://troopl.com/lorenamelos) 🖌"
   ]
  },
  {
   "cell_type": "markdown",
   "id": "30073aa2",
   "metadata": {},
   "source": [
    "**Thank you!**\n",
    "\n",
    "Thank you for have read this notebook! \n",
    "I hope I have shown some ways to use prompts with a LLM model. \n"
   ]
  },
  {
   "cell_type": "code",
   "execution_count": null,
   "id": "d514a175",
   "metadata": {},
   "outputs": [],
   "source": []
  }
 ],
 "metadata": {
  "kernelspec": {
   "display_name": "Python 3 (ipykernel)",
   "language": "python",
   "name": "python3"
  },
  "language_info": {
   "codemirror_mode": {
    "name": "ipython",
    "version": 3
   },
   "file_extension": ".py",
   "mimetype": "text/x-python",
   "name": "python",
   "nbconvert_exporter": "python",
   "pygments_lexer": "ipython3",
   "version": "3.10.6"
  },
  "toc": {
   "base_numbering": 1,
   "nav_menu": {},
   "number_sections": true,
   "sideBar": true,
   "skip_h1_title": false,
   "title_cell": "Table of Contents",
   "title_sidebar": "Contents",
   "toc_cell": false,
   "toc_position": {
    "height": "calc(100% - 180px)",
    "left": "10px",
    "top": "150px",
    "width": "260.797px"
   },
   "toc_section_display": true,
   "toc_window_display": false
  }
 },
 "nbformat": 4,
 "nbformat_minor": 5
}
